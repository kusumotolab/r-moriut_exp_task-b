{
 "cells": [
  {
   "cell_type": "code",
   "execution_count": 3,
   "metadata": {
    "colab": {},
    "colab_type": "code",
    "id": "h7mcM1yT8U-q"
   },
   "outputs": [],
   "source": [
    "import pandas as pd\n",
    "import numpy as np\n",
    "\n",
    "df_train = pd.read_csv(\"datasets/titanic/train_titanic.csv\")\n",
    "df_test = pd.read_csv(\"datasets/titanic/test_titanic.csv\")\n",
    "\n",
    "df_all = pd.concat([df_train, df_test], axis=0, sort=False)\n",
    "# 不要そうな項目削除\n",
    "df_all = df_all.drop(['PassengerId', 'Name', 'Ticket'], axis=1)\n",
    "\n",
    "# 欠損値補完\n",
    "df_all = df_all.fillna(df_all.median())\n",
    "# カテゴリ変数のone-hot化\n",
    "df_all = pd.get_dummies(df_all)\n",
    "\n",
    "# 訓練データ\n",
    "train = df_all.iloc[:len(df_train)] \n",
    "# テストデータ\n",
    "test = df_all.iloc[len(df_train):] \n",
    "test = df_all.drop('Survived', axis=1)\n",
    "\n",
    "# 訓練データとラベルの分割\n",
    "X = train.drop('Survived', axis=1)\n",
    "y = train.Survived"
   ]
  },
  {
   "cell_type": "code",
   "execution_count": 4,
   "metadata": {
    "colab": {
     "base_uri": "https://localhost:8080/",
     "height": 106
    },
    "colab_type": "code",
    "executionInfo": {
     "elapsed": 664,
     "status": "ok",
     "timestamp": 1573867860123,
     "user": {
      "displayName": "ちんちゃんねるAIエンジニア",
      "photoUrl": "https://lh3.googleusercontent.com/a-/AAuE7mDAp76sYQh20e_nmKms9FsgMnK6Wln1dGNxxPr_=s64",
      "userId": "02172563712230456611"
     },
     "user_tz": -540
    },
    "id": "SdC-x7zzBSbl",
    "outputId": "67829a6b-a50b-46b3-d3c0-1847463605b3"
   },
   "outputs": [
    {
     "name": "stdout",
     "output_type": "stream",
     "text": [
      "0.7937219730941704\n",
      "0.8026905829596412\n"
     ]
    },
    {
     "name": "stderr",
     "output_type": "stream",
     "text": [
      "C:\\Users\\Owner\\anaconda3\\lib\\site-packages\\sklearn\\linear_model\\_logistic.py:763: ConvergenceWarning: lbfgs failed to converge (status=1):\n",
      "STOP: TOTAL NO. of ITERATIONS REACHED LIMIT.\n",
      "\n",
      "Increase the number of iterations (max_iter) or scale the data as shown in:\n",
      "    https://scikit-learn.org/stable/modules/preprocessing.html\n",
      "Please also refer to the documentation for alternative solver options:\n",
      "    https://scikit-learn.org/stable/modules/linear_model.html#logistic-regression\n",
      "  n_iter_i = _check_optimize_result(\n"
     ]
    }
   ],
   "source": [
    "from sklearn.model_selection import train_test_split\n",
    "X_train, X_test, y_train, y_test = train_test_split(X, y, random_state=0)\n",
    "\n",
    "# ロジスティック回帰\n",
    "from sklearn.linear_model import LogisticRegression\n",
    "logistic = LogisticRegression()\n",
    "logistic.fit(X_train, y_train)\n",
    "print(logistic.score(X_test, y_test))\n",
    "\n",
    "# 決定木\n",
    "from sklearn.tree import DecisionTreeClassifier\n",
    "tree = DecisionTreeClassifier()\n",
    "tree.fit(X_train, y_train)\n",
    "print(tree.score(X_test, y_test))"
   ]
  },
  {
   "cell_type": "code",
   "execution_count": null,
   "metadata": {},
   "outputs": [],
   "source": []
  }
 ],
 "metadata": {
  "colab": {
   "collapsed_sections": [],
   "name": "train_all_feature.ipynb",
   "provenance": []
  },
  "kernelspec": {
   "display_name": "Python 3",
   "language": "python",
   "name": "python3"
  },
  "language_info": {
   "codemirror_mode": {
    "name": "ipython",
    "version": 3
   },
   "file_extension": ".py",
   "mimetype": "text/x-python",
   "name": "python",
   "nbconvert_exporter": "python",
   "pygments_lexer": "ipython3",
   "version": "3.8.8"
  }
 },
 "nbformat": 4,
 "nbformat_minor": 1
}
