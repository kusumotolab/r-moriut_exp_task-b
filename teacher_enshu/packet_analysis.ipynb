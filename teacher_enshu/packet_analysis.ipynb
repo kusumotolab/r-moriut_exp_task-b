{
 "cells": [
  {
   "cell_type": "code",
   "execution_count": 3,
   "id": "ab022422",
   "metadata": {
    "scrolled": true
   },
   "outputs": [
    {
     "name": "stdout",
     "output_type": "stream",
     "text": [
      "       No.       Time                     Source    Destination Protocol  \\\n",
      "0        1   0.000000               192.168.0.22      230.0.0.1      UDP   \n",
      "1        2   0.186451               192.168.0.22  192.168.0.255     NBNS   \n",
      "2        3   0.186847               192.168.0.22    224.0.0.251     MDNS   \n",
      "3        4   0.187069  fe80::d3c6:378e:fe43:f907       ff02::fb     MDNS   \n",
      "4        5   0.187843  fe80::d3c6:378e:fe43:f907      ff02::1:3    LLMNR   \n",
      "...    ...        ...                        ...            ...      ...   \n",
      "3717  3718  20.577375               192.168.0.22  144.195.18.33      UDP   \n",
      "3718  3719  20.706844              144.195.18.33   192.168.0.22      TCP   \n",
      "3719  3720  20.926550               192.168.0.22  192.168.0.255     NBNS   \n",
      "3720  3721  21.032136               192.168.0.22  144.195.18.33      UDP   \n",
      "3721  3722  21.142599               192.168.0.22      230.0.0.1      UDP   \n",
      "\n",
      "      Length                                               Info  \n",
      "0         92                              64439  >  6666 Len=50  \n",
      "1         92                  Name query NB BRW184F32B26726<00>  \n",
      "2         81  Standard query 0x0000 A BRW184F32B26726.local,...  \n",
      "3        101  Standard query 0x0000 A BRW184F32B26726.local,...  \n",
      "4         95            Standard query 0xe108 A BRW184F32B26726  \n",
      "...      ...                                                ...  \n",
      "3717     106                              62041  >  8801 Len=64  \n",
      "3718      54  443  >  63894 [ACK] Seq=21239 Ack=74522 Win=65...  \n",
      "3719      92                  Name query NB BRW184F32B26726<00>  \n",
      "3720     123                              62043  >  8801 Len=81  \n",
      "3721      92                              64439  >  6666 Len=50  \n",
      "\n",
      "[3722 rows x 7 columns]\n"
     ]
    }
   ],
   "source": [
    "import pandas as pd #pandasをpdとしてインポート\n",
    " \n",
    "#データをdfに読み込み。pandasをpdとして利用。\n",
    "df = pd.read_csv(\"datasets/packet_capture/packet_capture_1.csv\")\n",
    " \n",
    "#dfの中身を確認\n",
    "print(df)"
   ]
  },
  {
   "cell_type": "code",
   "execution_count": 4,
   "id": "36aa3238",
   "metadata": {},
   "outputs": [
    {
     "name": "stdout",
     "output_type": "stream",
     "text": [
      "0.005681966944369793\n",
      "150905.14652432277\n",
      "0    UDP\n",
      "dtype: object\n",
      "0    1078\n",
      "dtype: int64\n"
     ]
    }
   ],
   "source": [
    "row, col = df.shape\n",
    "dff_time_ave = 0\n",
    "dff_packet_ave = 0\n",
    "\n",
    "for num in range(row-1):\n",
    "    dff_time = (df.iat[num+1,1] - df.iat[num,1]) #送信間隔を計算\n",
    "    dff_time_ave += dff_time\n",
    "    dff_packet = df.iat[num,5]\n",
    "    dff_packet_ave += dff_packet\n",
    "      \n",
    "dff_time_ave /= (row-1)\n",
    "dff_packet_ave /= (df.iat[row-1,1])\n",
    "\n",
    "print(dff_time_ave)\n",
    "print(dff_packet_ave)\n",
    "print(df[\"Protocol\"].mode()) #プロトコルの最頻値を求める\n",
    "print(df[\"Length\"].mode()) #パケット長の最頻値を求める"
   ]
  },
  {
   "cell_type": "code",
   "execution_count": null,
   "id": "eed1727b",
   "metadata": {},
   "outputs": [],
   "source": []
  }
 ],
 "metadata": {
  "kernelspec": {
   "display_name": "Python 3",
   "language": "python",
   "name": "python3"
  },
  "language_info": {
   "codemirror_mode": {
    "name": "ipython",
    "version": 3
   },
   "file_extension": ".py",
   "mimetype": "text/x-python",
   "name": "python",
   "nbconvert_exporter": "python",
   "pygments_lexer": "ipython3",
   "version": "3.8.8"
  }
 },
 "nbformat": 4,
 "nbformat_minor": 5
}
